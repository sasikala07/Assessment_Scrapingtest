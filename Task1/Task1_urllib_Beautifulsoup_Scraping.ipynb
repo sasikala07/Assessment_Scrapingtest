{
 "cells": [
  {
   "cell_type": "code",
   "execution_count": 1,
   "id": "9625c217",
   "metadata": {},
   "outputs": [],
   "source": [
    "from bs4 import BeautifulSoup\n",
    "import pandas as pd\n",
    "import urllib.request\n",
    "from urllib.request import urlopen, Request"
   ]
  },
  {
   "cell_type": "markdown",
   "id": "ce9b044a",
   "metadata": {},
   "source": [
    "Here using scraping tools \n",
    "- urllib is python library to download website html code'\n",
    "- Beautifulsoup Parse the html code and find relevant information"
   ]
  },
  {
   "cell_type": "code",
   "execution_count": 8,
   "id": "e9899c1d",
   "metadata": {},
   "outputs": [],
   "source": [
    "url_req=Request('https://www.gotoauto.ca/inventory/?pg=1',headers={'User-Agent':'Mozilla/5.0'})\n",
    "url=urlopen(url_req).read()\n",
    "soup=BeautifulSoup(url)\n",
    "# soup\n",
    "\n",
    "## open pages of urls to getting the car list \n",
    "new_url='https://www.gotoauto.ca/inventory/?pg='\n",
    "url_list=['{}{}'.format(new_url,str(page)) for page in range(1,4)]\n",
    "\n",
    "car_url=[]\n",
    "for url in url_list:\n",
    "    car_url.append(url)\n",
    "# car_url"
   ]
  },
  {
   "cell_type": "code",
   "execution_count": 4,
   "id": "ae2e7260",
   "metadata": {},
   "outputs": [],
   "source": [
    "car_name=[]\n",
    "car_price=[]\n",
    "\n",
    "\n",
    "for pg in car_url:\n",
    "    \n",
    "    #query the website and return the html to the variable 'page'\n",
    "    page_req=Request(pg,headers={'User-Agent':'Mozilla/5.0'})\n",
    "    page=urlopen(page_req).read()\n",
    "    \n",
    "    #parse the html using beautifulsoup and store in variable 'soup'\n",
    "    soup=BeautifulSoup(page,'html.parser')\n",
    "    \n",
    "    #scraping findall names and prices of each pages\n",
    "    name=[x.get_text(strip=True) for x in soup.find_all('h4',{'class':'name desc_l5'})]\n",
    "    price=[x.get_text(strip=True) for x in soup.find_all('span',{\"class\":'price'})]\n",
    "    \n",
    "    car_name.append(name)\n",
    "    car_price.append(price)\n",
    "    \n",
    "#remove the unwanted charcter from the list\n",
    "car_name= [[item.replace('\\t', '') for item in lst] for lst in car_name]\n",
    "# car_name\n",
    "\n",
    "#\n",
    "test_carname=pd.DataFrame(car_name)\n",
    "test_carprice=pd.DataFrame(car_price)\n",
    "\n",
    "#combine multiple columns values into one using 'ravel'\n",
    "#car_name columns values\n",
    "df=pd.Series(test_carname.values.ravel('F'))\n",
    "df=pd.DataFrame(df,columns=['Car_name'])\n",
    "\n",
    "#car_price columns values\n",
    "df_price=pd.Series(test_carprice.values.ravel('F'))\n",
    "df_price=pd.DataFrame(df_price,columns=['Car_price'])\n",
    "\n",
    "\n",
    "#scraped the car name and MSRP (price) of those cars from the inventory pages .\n",
    "# saved as csv file\n",
    "data=pd.DataFrame(list(zip(df['Car_name'],df_price['Car_price'])),columns=['Car_name','MSRP'])\n",
    "\n",
    "#keep clean dataset drop none values\n",
    "new_data=data.dropna(axis=0)\n",
    "#save as csv file \n",
    "new_data.to_csv('task_1.csv')"
   ]
  },
  {
   "cell_type": "code",
   "execution_count": 6,
   "id": "1165b9a1",
   "metadata": {},
   "outputs": [],
   "source": []
  },
  {
   "cell_type": "code",
   "execution_count": null,
   "id": "ef6e39c7",
   "metadata": {},
   "outputs": [],
   "source": []
  },
  {
   "cell_type": "code",
   "execution_count": null,
   "id": "767f2c44",
   "metadata": {},
   "outputs": [],
   "source": []
  }
 ],
 "metadata": {
  "kernelspec": {
   "display_name": "Python 3",
   "language": "python",
   "name": "python3"
  },
  "language_info": {
   "codemirror_mode": {
    "name": "ipython",
    "version": 3
   },
   "file_extension": ".py",
   "mimetype": "text/x-python",
   "name": "python",
   "nbconvert_exporter": "python",
   "pygments_lexer": "ipython3",
   "version": "3.7.11"
  }
 },
 "nbformat": 4,
 "nbformat_minor": 5
}
