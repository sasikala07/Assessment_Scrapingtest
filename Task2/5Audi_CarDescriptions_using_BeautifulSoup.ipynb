{
 "cells": [
  {
   "cell_type": "code",
   "execution_count": 1,
   "id": "bb595e6e",
   "metadata": {},
   "outputs": [],
   "source": [
    "import pandas as pd\n",
    "from bs4 import BeautifulSoup\n",
    "import urllib.request\n",
    "from urllib.request import urlopen,Request"
   ]
  },
  {
   "cell_type": "code",
   "execution_count": 62,
   "id": "62cfd392",
   "metadata": {},
   "outputs": [],
   "source": [
    "#5 Audi cars links for open and parsing  \n",
    "\n",
    "url1='https://www.gotoauto.ca/inventory/view/14862358/'\n",
    "url2='https://www.gotoauto.ca/inventory/view/14936812/'\n",
    "url3='https://www.gotoauto.ca/inventory/view/14867223/'\n",
    "url4='https://www.gotoauto.ca/inventory/view/14648546/'\n",
    "url5='https://www.gotoauto.ca/inventory/view/14964627/'\n",
    "\n",
    "\n",
    "## Car 1 Audi2015\n",
    "desc=[]    \n",
    "page_req=Request(url1,headers={'User-Agent':'Mozilla/5.0'})\n",
    "page=urlopen(page_req).read()\n",
    "    \n",
    "#parse the html using beautofulsoup and store in variable 'soup'\n",
    "soup=BeautifulSoup(page,'html.parser')\n",
    "\n",
    "#find values in div tag\n",
    "descs=[x.get_text(strip=True) for x in soup.find_all('div',class_='tab-pane fade show active')]\n",
    "desc.append(descs)\n",
    "#remove unwanted charcter\n",
    "para=','.join([str(elm) for elm in desc])\n",
    "para_rep=para.replace('Description','')\n",
    "# para_rep\n",
    "\n",
    "# save as text file \n",
    "with open(\"Car1_2015Audi-A4\", \"w\") as output:\n",
    "    output.write(str(para_rep))"
   ]
  },
  {
   "cell_type": "code",
   "execution_count": 63,
   "id": "d487cedc",
   "metadata": {},
   "outputs": [],
   "source": [
    "## car2-Audi-Q5\n",
    "\n",
    "desc=[]    \n",
    "page_req=Request(url2,headers={'User-Agent':'Mozilla/5.0'})\n",
    "page=urlopen(page_req).read()\n",
    "    \n",
    "#parse the html using beautofulsoup and store in variable 'soup'\n",
    "soup=BeautifulSoup(page,'html.parser')\n",
    "    \n",
    "descs=[x.get_text(strip=True) for x in soup.find_all('div',class_='tab-pane fade show active')]\n",
    "desc.append(descs)\n",
    "para=','.join([str(elm) for elm in desc])\n",
    "para_rep=para.replace('Description','')\n",
    "# para_rep\n",
    "\n",
    "# save as text file \n",
    "with open(\"Car2_2017Audi-Q5\", \"w\") as output:\n",
    "    output.write(str(para_rep))"
   ]
  },
  {
   "cell_type": "code",
   "execution_count": 64,
   "id": "2686cc7e",
   "metadata": {},
   "outputs": [],
   "source": [
    "## car3-Audi-2012-s4\n",
    "\n",
    "desc=[]    \n",
    "page_req=Request(url3,headers={'User-Agent':'Mozilla/5.0'})\n",
    "page=urlopen(page_req).read()\n",
    "    \n",
    "#parse the html using beautofulsoup and store in variable 'soup'\n",
    "soup=BeautifulSoup(page,'html.parser')\n",
    "    \n",
    "descs=[x.get_text(strip=True) for x in soup.find_all('div',class_='tab-pane fade show active')]\n",
    "desc.append(descs)\n",
    "para=','.join([str(elm) for elm in desc])\n",
    "para_rep=para.replace('Description','')\n",
    "# para_rep\n",
    "\n",
    "# save as text file \n",
    "with open(\"Car3_2012Audi-s4\", \"w\") as output:\n",
    "    output.write(str(para_rep))"
   ]
  },
  {
   "cell_type": "code",
   "execution_count": 65,
   "id": "2ab03979",
   "metadata": {},
   "outputs": [],
   "source": [
    "## car4-Audi-2014-s5\n",
    "\n",
    "desc=[]    \n",
    "page_req=Request(url4,headers={'User-Agent':'Mozilla/5.0'})\n",
    "page=urlopen(page_req).read()\n",
    "    \n",
    "#parse the html using beautofulsoup and store in variable 'soup'\n",
    "soup=BeautifulSoup(page,'html.parser')\n",
    "    \n",
    "descs=[x.get_text(strip=True) for x in soup.find_all('div',class_='tab-pane fade show active')]\n",
    "desc.append(descs)\n",
    "para=','.join([str(elm) for elm in desc])\n",
    "para_rep=para.replace('Description','')\n",
    "# para_rep\n",
    "\n",
    "# save as text file \n",
    "with open(\"Car4_2014Audi-s5\", \"w\") as output:\n",
    "    output.write(str(para_rep))"
   ]
  },
  {
   "cell_type": "code",
   "execution_count": 66,
   "id": "76b814b4",
   "metadata": {},
   "outputs": [],
   "source": [
    "## car5-Audi-2014-s6\n",
    "\n",
    "desc=[]    \n",
    "page_req=Request(url5,headers={'User-Agent':'Mozilla/5.0'})\n",
    "page=urlopen(page_req).read()\n",
    "    \n",
    "#parse the html using beautofulsoup and store in variable 'soup'\n",
    "soup=BeautifulSoup(page,'html.parser')\n",
    "    \n",
    "descs=[x.get_text(strip=True) for x in soup.find_all('div',class_='tab-pane fade show active')]\n",
    "desc.append(descs)\n",
    "para=','.join([str(elm) for elm in desc])\n",
    "para_rep=para.replace('Description','')\n",
    "# para_rep\n",
    "\n",
    "# save as text file \n",
    "with open(\"Car5_2014Audi-s6\", \"w\") as output:\n",
    "    output.write(str(para_rep))"
   ]
  },
  {
   "cell_type": "code",
   "execution_count": null,
   "id": "012885e0",
   "metadata": {},
   "outputs": [],
   "source": []
  }
 ],
 "metadata": {
  "kernelspec": {
   "display_name": "Python 3",
   "language": "python",
   "name": "python3"
  },
  "language_info": {
   "codemirror_mode": {
    "name": "ipython",
    "version": 3
   },
   "file_extension": ".py",
   "mimetype": "text/x-python",
   "name": "python",
   "nbconvert_exporter": "python",
   "pygments_lexer": "ipython3",
   "version": "3.7.11"
  }
 },
 "nbformat": 4,
 "nbformat_minor": 5
}
