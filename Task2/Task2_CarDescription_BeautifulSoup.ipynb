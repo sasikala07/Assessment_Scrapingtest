{
 "cells": [
  {
   "cell_type": "code",
   "execution_count": 1,
   "id": "bb595e6e",
   "metadata": {},
   "outputs": [],
   "source": [
    "import pandas as pd\n",
    "from bs4 import BeautifulSoup\n",
    "import urllib.request\n",
    "from urllib.request import urlopen,Request"
   ]
  },
  {
   "cell_type": "code",
   "execution_count": 2,
   "id": "992ad246",
   "metadata": {},
   "outputs": [],
   "source": [
    "import re\n",
    "url_req=Request('https://www.gotoauto.ca/inventory/?pg=1',headers={'User-Agent':'Mozilla/5.0'})\n",
    "url=urlopen(url_req).read()\n",
    "\n",
    "## parse html\n",
    "soup=BeautifulSoup(url,'html.parser')\n",
    "\n",
    "#using find_all() method get all href vlaues from tag <a>\n",
    "list_link=[str(link.get('href')) for link in soup.find_all('a',class_='vehicle_title_link')]\n",
    "\n",
    "#convert into string to perform regex\n",
    "parastr=','.join([str(elm) for elm in list_link])\n",
    "\n",
    "#perform regex to add new character into href link\n",
    "link=re.sub(r'(/inventory/)',r'https://www.gotoauto.ca\\1',parastr)\n",
    "link=link.split(',')\n",
    "\n",
    "# get the href links containing description of each car \n",
    "url_new='https://www.gotoauto.ca/inventory/?pg=1'\n",
    "url_list=['{}{}'.format(url_new,str(page)) for page in link]\n",
    "\n",
    "## save the href links  in a list\n",
    "new_list=[]\n",
    "for href in url_list:\n",
    "    new_list.append(href)\n",
    "# new_list"
   ]
  },
  {
   "cell_type": "code",
   "execution_count": 3,
   "id": "62cfd392",
   "metadata": {},
   "outputs": [],
   "source": [
    "#multiple car desc\n",
    "\n",
    "desc=[]\n",
    "\n",
    "for url_l in link:\n",
    "    \n",
    "    page_req=Request(url_l,headers={'User-Agent':'Mozilla/5.0'})\n",
    "    page=urlopen(page_req).read()\n",
    "    \n",
    "    #parse the html using beautofulsoup and store in variable 'soup'\n",
    "    soup=BeautifulSoup(page,'html.parser')\n",
    "    \n",
    "    descs=[x.get_text(strip=True) for x in soup.find_all('div',class_='tab-pane fade show active')]\n",
    "    desc.append(descs)\n",
    "# print(desc)\n",
    "\n",
    "### save as text file \n",
    "with open(\"task2.txt\", \"w\") as output:\n",
    "    output.write(str(desc))"
   ]
  },
  {
   "cell_type": "code",
   "execution_count": null,
   "id": "de83629c",
   "metadata": {},
   "outputs": [],
   "source": [
    "\n"
   ]
  },
  {
   "cell_type": "code",
   "execution_count": null,
   "id": "b194e15e",
   "metadata": {},
   "outputs": [],
   "source": []
  },
  {
   "cell_type": "code",
   "execution_count": null,
   "id": "d487cedc",
   "metadata": {},
   "outputs": [],
   "source": []
  }
 ],
 "metadata": {
  "kernelspec": {
   "display_name": "Python 3",
   "language": "python",
   "name": "python3"
  },
  "language_info": {
   "codemirror_mode": {
    "name": "ipython",
    "version": 3
   },
   "file_extension": ".py",
   "mimetype": "text/x-python",
   "name": "python",
   "nbconvert_exporter": "python",
   "pygments_lexer": "ipython3",
   "version": "3.7.11"
  }
 },
 "nbformat": 4,
 "nbformat_minor": 5
}
